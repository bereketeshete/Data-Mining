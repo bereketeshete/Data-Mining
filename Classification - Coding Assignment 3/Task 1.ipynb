{
 "cells": [
  {
   "cell_type": "code",
   "execution_count": 1,
   "id": "b108ddd0",
   "metadata": {},
   "outputs": [],
   "source": [
    "import sys\n",
    "sys.path.append(\"C:/Users/CIRL/AppData/Local\\Programs/Python/Python39/Lib/site-packages\")\n",
    "sys.path.append(\"C:/Users/CIRL/AppData/Local\\Programs/Python/Python36/Lib/site-packages\")\n",
    "\n",
    "from PIL import Image\n",
    "import numpy as np\n",
    "import os\n",
    "import tensorflow as tf \n",
    "import matplotlib.pyplot as plt"
   ]
  },
  {
   "cell_type": "code",
   "execution_count": 2,
   "id": "0fcef93d",
   "metadata": {},
   "outputs": [],
   "source": [
    "data_dir_bi = 'Task 1 Dataset/datasets/bi-class'\n",
    "data_dir_multi = 'Task 1 Dataset/datasets/multi-class'"
   ]
  },
  {
   "cell_type": "code",
   "execution_count": 3,
   "id": "e2794a67",
   "metadata": {},
   "outputs": [
    {
     "name": "stdout",
     "output_type": "stream",
     "text": [
      "['breast-cancer.npz', 'diabetes.npz', 'digit.npz', 'iris.npz', 'wine.npz']\n"
     ]
    }
   ],
   "source": [
    "datas_bi = os.listdir(data_dir_bi )\n",
    "print(datas_bi)"
   ]
  },
  {
   "cell_type": "code",
   "execution_count": 4,
   "id": "51070d07",
   "metadata": {},
   "outputs": [
    {
     "name": "stdout",
     "output_type": "stream",
     "text": [
      "['test_images.mat', 'test_labels.mat', 'train_images.mat', 'train_labels.mat']\n"
     ]
    }
   ],
   "source": [
    "datas_multi = os.listdir(data_dir_multi)\n",
    "print(datas_multi)"
   ]
  },
  {
   "cell_type": "code",
   "execution_count": 5,
   "id": "cceb21bb",
   "metadata": {},
   "outputs": [
    {
     "data": {
      "text/plain": [
       "(547, 10)"
      ]
     },
     "execution_count": 5,
     "metadata": {},
     "output_type": "execute_result"
    }
   ],
   "source": [
    "breast_cancer = np.load(os.path.join(data_dir_bi,datas_bi[0]))\n",
    "breast_cancer['train_X'].shape"
   ]
  },
  {
   "cell_type": "code",
   "execution_count": 6,
   "id": "67725441",
   "metadata": {},
   "outputs": [],
   "source": [
    "train_breast_cancer = breast_cancer['train_X']\n",
    "train_breast_cancer_labels = breast_cancer['train_Y']\n",
    "test_breast_cancer = breast_cancer['test_X']\n",
    "test_breast_cancer_labels = breast_cancer['test_Y']"
   ]
  },
  {
   "cell_type": "code",
   "execution_count": 7,
   "id": "6c287137",
   "metadata": {},
   "outputs": [],
   "source": [
    "model = tf.keras.Sequential([\n",
    "    tf.keras.layers.Flatten(input_shape=(10,)),\n",
    "    tf.keras.layers.Dense(128, activation='relu'),\n",
    "    tf.keras.layers.Dense(10)\n",
    "])"
   ]
  },
  {
   "cell_type": "code",
   "execution_count": 28,
   "id": "d366ee83",
   "metadata": {},
   "outputs": [],
   "source": [
    "model.compile(optimizer='adam',\n",
    "              loss=tf.keras.losses.SparseCategoricalCrossentropy(from_logits=True),\n",
    "              metrics=['accuracy'])"
   ]
  },
  {
   "cell_type": "code",
   "execution_count": 29,
   "id": "8bbbcc8d",
   "metadata": {},
   "outputs": [
    {
     "name": "stdout",
     "output_type": "stream",
     "text": [
      "Epoch 1/10\n",
      "14/14 [==============================] - 0s 10ms/step - loss: 0.0666 - accuracy: 0.9794 - val_loss: 0.0667 - val_accuracy: 0.9727\n",
      "Epoch 2/10\n",
      "14/14 [==============================] - 0s 4ms/step - loss: 0.0640 - accuracy: 0.9771 - val_loss: 0.0733 - val_accuracy: 0.9727\n",
      "Epoch 3/10\n",
      "14/14 [==============================] - 0s 3ms/step - loss: 0.0633 - accuracy: 0.9771 - val_loss: 0.0756 - val_accuracy: 0.9727\n",
      "Epoch 4/10\n",
      "14/14 [==============================] - 0s 3ms/step - loss: 0.0630 - accuracy: 0.9794 - val_loss: 0.0718 - val_accuracy: 0.9727\n",
      "Epoch 5/10\n",
      "14/14 [==============================] - 0s 3ms/step - loss: 0.0621 - accuracy: 0.9771 - val_loss: 0.0785 - val_accuracy: 0.9727\n",
      "Epoch 6/10\n",
      "14/14 [==============================] - 0s 3ms/step - loss: 0.0610 - accuracy: 0.9771 - val_loss: 0.0762 - val_accuracy: 0.9727\n",
      "Epoch 7/10\n",
      "14/14 [==============================] - 0s 3ms/step - loss: 0.0630 - accuracy: 0.9794 - val_loss: 0.0688 - val_accuracy: 0.9727\n",
      "Epoch 8/10\n",
      "14/14 [==============================] - 0s 3ms/step - loss: 0.0594 - accuracy: 0.9771 - val_loss: 0.0845 - val_accuracy: 0.9636\n",
      "Epoch 9/10\n",
      "14/14 [==============================] - 0s 3ms/step - loss: 0.0588 - accuracy: 0.9771 - val_loss: 0.0814 - val_accuracy: 0.9636\n",
      "Epoch 10/10\n",
      "14/14 [==============================] - 0s 3ms/step - loss: 0.0578 - accuracy: 0.9771 - val_loss: 0.0819 - val_accuracy: 0.9636\n"
     ]
    }
   ],
   "source": [
    "history = model.fit(train_breast_cancer,train_breast_cancer_labels, validation_split=0.2,epochs=10)"
   ]
  },
  {
   "cell_type": "code",
   "execution_count": 32,
   "id": "761402ff",
   "metadata": {},
   "outputs": [
    {
     "data": {
      "text/plain": [
       "<matplotlib.legend.Legend at 0x19e33147460>"
      ]
     },
     "execution_count": 32,
     "metadata": {},
     "output_type": "execute_result"
    },
    {
     "data": {
      "image/png": "[encoded data removed]",
      "text/plain": [
       "<Figure size 432x288 with 1 Axes>"
      ]
     },
     "metadata": {
      "needs_background": "light"
     },
     "output_type": "display_data"
    }
   ],
   "source": [
    "plt.plot(history.history['accuracy'])\n",
    "plt.plot(history.history['val_accuracy'])\n",
    "plt.title('model accuracy')\n",
    "plt.ylabel('accuracy')\n",
    "plt.xlabel('epoch')\n",
    "plt.legend(['train', 'test'], loc='upper right')"
   ]
  },
  {
   "cell_type": "code",
   "execution_count": 33,
   "id": "f6d01051",
   "metadata": {},
   "outputs": [
    {
     "data": {
      "text/plain": [
       "<matplotlib.legend.Legend at 0x19e2b2acb80>"
      ]
     },
     "execution_count": 33,
     "metadata": {},
     "output_type": "execute_result"
    },
    {
     "data": {
      "image/png": "[encoded data removed]",
      "text/plain": [
       "<Figure size 432x288 with 1 Axes>"
      ]
     },
     "metadata": {
      "needs_background": "light"
     },
     "output_type": "display_data"
    }
   ],
   "source": [
    "plt.plot(history.history['loss'])\n",
    "plt.plot(history.history['val_loss'])\n",
    "plt.title('model loss')\n",
    "plt.ylabel('loss')\n",
    "plt.xlabel('epoch')\n",
    "plt.legend(['train', 'test'], loc='upper left')"
   ]
  },
  {
   "cell_type": "markdown",
   "id": "6fb29ec0",
   "metadata": {},
   "source": [
    "### Reference\n",
    "\n",
    "[1] https://www.tensorflow.org/tutorials/keras/classification\n",
    "[2] https://machinelearningmastery.com/display-deep-learning-model-training-history-in-keras/"
   ]
  }
 ],
 "metadata": {
  "kernelspec": {
   "display_name": "Python 3 (ipykernel)",
   "language": "python",
   "name": "python3"
  },
  "language_info": {
   "codemirror_mode": {
    "name": "ipython",
    "version": 3
   },
   "file_extension": ".py",
   "mimetype": "text/x-python",
   "name": "python",
   "nbconvert_exporter": "python",
   "pygments_lexer": "ipython3",
   "version": "3.9.5"
  }
 },
 "nbformat": 4,
 "nbformat_minor": 5
}
