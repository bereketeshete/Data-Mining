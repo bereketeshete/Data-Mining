{
 "cells": [
  {
   "cell_type": "code",
   "execution_count": 1,
   "id": "b108ddd0",
   "metadata": {},
   "outputs": [],
   "source": [
    "import sys\n",
    "sys.path.append(\"C:/Users/CIRL/AppData/Local\\Programs/Python/Python39/Lib/site-packages\")\n",
    "sys.path.append(\"C:/Users/CIRL/AppData/Local\\Programs/Python/Python36/Lib/site-packages\")\n",
    "\n",
    "from PIL import Image\n",
    "import numpy as np\n",
    "import os\n",
    "import tensorflow as tf \n",
    "import matplotlib.pyplot as plt"
   ]
  },
  {
   "cell_type": "code",
   "execution_count": 2,
   "id": "0fcef93d",
   "metadata": {},
   "outputs": [],
   "source": [
    "data_dir_bi = 'Task 1 Dataset/datasets/bi-class'\n",
    "data_dir_multi = 'Task 1 Dataset/datasets/multi-class'"
   ]
  },
  {
   "cell_type": "code",
   "execution_count": 3,
   "id": "e2794a67",
   "metadata": {},
   "outputs": [
    {
     "name": "stdout",
     "output_type": "stream",
     "text": [
      "['breast-cancer.npz', 'diabetes.npz', 'digit.npz', 'iris.npz', 'wine.npz']\n"
     ]
    }
   ],
   "source": [
    "datas_bi = os.listdir(data_dir_bi )\n",
    "print(datas_bi)"
   ]
  },
  {
   "cell_type": "code",
   "execution_count": 4,
   "id": "51070d07",
   "metadata": {},
   "outputs": [
    {
     "name": "stdout",
     "output_type": "stream",
     "text": [
      "['test_images.mat', 'test_labels.mat', 'train_images.mat', 'train_labels.mat']\n"
     ]
    }
   ],
   "source": [
    "datas_multi = os.listdir(data_dir_multi)\n",
    "print(datas_multi)"
   ]
  },
  {
   "cell_type": "code",
   "execution_count": 5,
   "id": "cceb21bb",
   "metadata": {},
   "outputs": [
    {
     "data": {
      "text/plain": [
       "(547, 10)"
      ]
     },
     "execution_count": 5,
     "metadata": {},
     "output_type": "execute_result"
    }
   ],
   "source": [
    "breast_cancer = np.load(os.path.join(data_dir_bi,datas_bi[0]))\n",
    "breast_cancer['train_X'].shape"
   ]
  },
  {
   "cell_type": "code",
   "execution_count": 6,
   "id": "67725441",
   "metadata": {},
   "outputs": [],
   "source": [
    "train_breast_cancer = breast_cancer['train_X']\n",
    "train_breast_cancer_labels = breast_cancer['train_Y']\n",
    "test_breast_cancer = breast_cancer['test_X']\n",
    "test_breast_cancer_labels = breast_cancer['test_Y']"
   ]
  },
  {
   "cell_type": "code",
   "execution_count": 40,
   "id": "12631dc5",
   "metadata": {},
   "outputs": [],
   "source": [
    "model = tf.keras.Sequential([\n",
    "    tf.keras.layers.Flatten(input_shape=(10,)),\n",
    "    tf.keras.layers.Dense(128, activation='relu'),\n",
    "    tf.keras.layers.Dense(10, activation='softmax'),\n",
    "])"
   ]
  },
  {
   "cell_type": "code",
   "execution_count": 41,
   "id": "54a46e00",
   "metadata": {},
   "outputs": [],
   "source": [
    "model.compile(optimizer='adam',\n",
    "              loss=tf.keras.losses.SparseCategoricalCrossentropy(from_logits=True),\n",
    "              metrics=['accuracy'])"
   ]
  },
  {
   "cell_type": "markdown",
   "id": "ba92d41d",
   "metadata": {},
   "source": [
    "## Breast  Cancer"
   ]
  },
  {
   "cell_type": "code",
   "execution_count": 42,
   "id": "ee231645",
   "metadata": {},
   "outputs": [
    {
     "name": "stdout",
     "output_type": "stream",
     "text": [
      "Epoch 1/10\n",
      "\r",
      " 1/14 [=>............................] - ETA: 2s - loss: 2.6261 - accuracy: 0.0000e+00"
     ]
    },
    {
     "name": "stderr",
     "output_type": "stream",
     "text": [
      "C:\\ProgramData\\Miniconda3\\lib\\site-packages\\tensorflow\\python\\util\\dispatch.py:1096: UserWarning: \"`sparse_categorical_crossentropy` received `from_logits=True`, but the `output` argument was produced by a sigmoid or softmax activation and thus does not represent logits. Was this intended?\"\n",
      "  return dispatch_target(*args, **kwargs)\n"
     ]
    },
    {
     "name": "stdout",
     "output_type": "stream",
     "text": [
      "14/14 [==============================] - 0s 9ms/step - loss: 2.1593 - accuracy: 0.2769 - val_loss: 1.5331 - val_accuracy: 0.8455\n",
      "Epoch 2/10\n",
      "14/14 [==============================] - 0s 3ms/step - loss: 1.2402 - accuracy: 0.8101 - val_loss: 0.7591 - val_accuracy: 0.9364\n",
      "Epoch 3/10\n",
      "14/14 [==============================] - 0s 3ms/step - loss: 0.7306 - accuracy: 0.8810 - val_loss: 0.4274 - val_accuracy: 0.9545\n",
      "Epoch 4/10\n",
      "14/14 [==============================] - 0s 3ms/step - loss: 0.4863 - accuracy: 0.9176 - val_loss: 0.2800 - val_accuracy: 0.9636\n",
      "Epoch 5/10\n",
      "14/14 [==============================] - 0s 3ms/step - loss: 0.3338 - accuracy: 0.9291 - val_loss: 0.2022 - val_accuracy: 0.9636\n",
      "Epoch 6/10\n",
      "14/14 [==============================] - 0s 3ms/step - loss: 0.2379 - accuracy: 0.9428 - val_loss: 0.1621 - val_accuracy: 0.9727\n",
      "Epoch 7/10\n",
      "14/14 [==============================] - 0s 3ms/step - loss: 0.1839 - accuracy: 0.9611 - val_loss: 0.1445 - val_accuracy: 0.9727\n",
      "Epoch 8/10\n",
      "14/14 [==============================] - 0s 3ms/step - loss: 0.1524 - accuracy: 0.9634 - val_loss: 0.1353 - val_accuracy: 0.9727\n",
      "Epoch 9/10\n",
      "14/14 [==============================] - 0s 3ms/step - loss: 0.1327 - accuracy: 0.9657 - val_loss: 0.1285 - val_accuracy: 0.9727\n",
      "Epoch 10/10\n",
      "14/14 [==============================] - 0s 3ms/step - loss: 0.1203 - accuracy: 0.9657 - val_loss: 0.1246 - val_accuracy: 0.9727\n"
     ]
    }
   ],
   "source": [
    "history = model.fit(train_breast_cancer,train_breast_cancer_labels, validation_split=0.2,epochs=10)"
   ]
  },
  {
   "cell_type": "code",
   "execution_count": 43,
   "id": "4c6730bc",
   "metadata": {},
   "outputs": [
    {
     "data": {
      "text/plain": [
       "<matplotlib.legend.Legend at 0x19e2b612580>"
      ]
     },
     "execution_count": 43,
     "metadata": {},
     "output_type": "execute_result"
    },
    {
     "data": {
      "image/png": "[encoded data removed]",
      "text/plain": [
       "<Figure size 432x288 with 1 Axes>"
      ]
     },
     "metadata": {
      "needs_background": "light"
     },
     "output_type": "display_data"
    }
   ],
   "source": [
    "plt.plot(history.history['accuracy'])\n",
    "plt.plot(history.history['val_accuracy'])\n",
    "plt.title('model accuracy')\n",
    "plt.ylabel('accuracy')\n",
    "plt.xlabel('epoch')\n",
    "plt.legend(['train', 'test'], loc='upper right')"
   ]
  },
  {
   "cell_type": "code",
   "execution_count": 44,
   "id": "15514d4b",
   "metadata": {},
   "outputs": [
    {
     "data": {
      "text/plain": [
       "<matplotlib.legend.Legend at 0x1a40573e400>"
      ]
     },
     "execution_count": 44,
     "metadata": {},
     "output_type": "execute_result"
    },
    {
     "data": {
      "image/png": "[encoded data removed]",
      "text/plain": [
       "<Figure size 432x288 with 1 Axes>"
      ]
     },
     "metadata": {
      "needs_background": "light"
     },
     "output_type": "display_data"
    }
   ],
   "source": [
    "plt.plot(history.history['loss'])\n",
    "plt.plot(history.history['val_loss'])\n",
    "plt.title('model loss')\n",
    "plt.ylabel('loss')\n",
    "plt.xlabel('epoch')\n",
    "plt.legend(['train', 'test'], loc='upper left')"
   ]
  },
  {
   "cell_type": "code",
   "execution_count": 46,
   "id": "4fa06a18",
   "metadata": {},
   "outputs": [
    {
     "name": "stdout",
     "output_type": "stream",
     "text": [
      "5/5 [==============================] - 0s 2ms/step - loss: 0.1025 - accuracy: 0.9706\n"
     ]
    }
   ],
   "source": [
    "test_loss, test_acc = model.evaluate(test_breast_cancer, test_breast_cancer_labels)"
   ]
  },
  {
   "cell_type": "markdown",
   "id": "84852419",
   "metadata": {},
   "source": [
    "### Reference\n",
    "\n",
    "[1] https://www.tensorflow.org/tutorials/keras/classification\n",
    "[2] https://machinelearningmastery.com/display-deep-learning-model-training-history-in-keras/"
   ]
  }
 ],
 "metadata": {
  "kernelspec": {
   "display_name": "Python 3 (ipykernel)",
   "language": "python",
   "name": "python3"
  },
  "language_info": {
   "codemirror_mode": {
    "name": "ipython",
    "version": 3
   },
   "file_extension": ".py",
   "mimetype": "text/x-python",
   "name": "python",
   "nbconvert_exporter": "python",
   "pygments_lexer": "ipython3",
   "version": "3.9.5"
  }
 },
 "nbformat": 4,
 "nbformat_minor": 5
}
